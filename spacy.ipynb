{
 "cells": [
  {
   "cell_type": "markdown",
   "id": "c8822e3a",
   "metadata": {},
   "source": [
    "### SPACY MODEL FOR THE NER TASK."
   ]
  },
  {
   "cell_type": "code",
   "execution_count": 12,
   "id": "a7148cd8",
   "metadata": {},
   "outputs": [],
   "source": [
    "import spacy\n",
    "from spacy.matcher import PhraseMatcher"
   ]
  },
  {
   "cell_type": "code",
   "execution_count": 7,
   "id": "e9792592",
   "metadata": {},
   "outputs": [],
   "source": [
    "nlp = spacy.load(\"en_core_web_md\")"
   ]
  },
  {
   "cell_type": "code",
   "execution_count": 26,
   "id": "f5708a89",
   "metadata": {},
   "outputs": [],
   "source": [
    "weapon_list = [\"AK-47\", \"grenade\", \"RPG-7\", \"missile\", \"sniper rifle\", \"pistol\", \"bomb\", \"mortar\", \"machine gun\", \"assault rifle\", \"gun\"]\n",
    "matcher = PhraseMatcher(nlp.vocab, attr=\"LOWER\")\n",
    "patterns = [nlp.make_doc(w) for w in weapon_list]\n",
    "matcher.add(\"WEAPON\", patterns)"
   ]
  },
  {
   "cell_type": "code",
   "execution_count": 27,
   "id": "d97c5c8e",
   "metadata": {},
   "outputs": [],
   "source": [
    "sentence = 'Nishchal Singh inspected the gun in Srinagar at 05:30'\n",
    "doc = nlp(sentence)"
   ]
  },
  {
   "cell_type": "code",
   "execution_count": 28,
   "id": "569a1687",
   "metadata": {},
   "outputs": [
    {
     "name": "stdout",
     "output_type": "stream",
     "text": [
      "[('Nishchal Singh', 'PERSON'), ('Srinagar', 'GPE'), ('05:30', 'TIME'), ('gun', 'WEAPON')]\n"
     ]
    }
   ],
   "source": [
    "entities = [(ent.text, ent.label_) for ent in doc.ents]\n",
    "matches = matcher(doc)\n",
    "for match_id, start, end in matches:\n",
    "    span = doc[start:end]\n",
    "    entities.append((span.text, \"WEAPON\"))\n",
    "\n",
    "print(entities)\n"
   ]
  }
 ],
 "metadata": {
  "kernelspec": {
   "display_name": "intelenv",
   "language": "python",
   "name": "python3"
  },
  "language_info": {
   "codemirror_mode": {
    "name": "ipython",
    "version": 3
   },
   "file_extension": ".py",
   "mimetype": "text/x-python",
   "name": "python",
   "nbconvert_exporter": "python",
   "pygments_lexer": "ipython3",
   "version": "3.12.10"
  }
 },
 "nbformat": 4,
 "nbformat_minor": 5
}
